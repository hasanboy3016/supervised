{
 "cells": [
  {
   "cell_type": "code",
   "execution_count": 3,
   "metadata": {},
   "outputs": [
    {
     "name": "stdout",
     "output_type": "stream",
     "text": [
      "7\n"
     ]
    }
   ],
   "source": [
    "a=3\n",
    "if a>0:\n",
    "  print(a+4)"
   ]
  },
  {
   "cell_type": "code",
   "execution_count": 4,
   "metadata": {},
   "outputs": [
    {
     "name": "stdout",
     "output_type": "stream",
     "text": [
      "9\n"
     ]
    }
   ],
   "source": [
    "a=int(input('sonni kiriting'))\n",
    "print(a+4)"
   ]
  },
  {
   "cell_type": "code",
   "execution_count": 3,
   "metadata": {},
   "outputs": [
    {
     "name": "stdout",
     "output_type": "stream",
     "text": [
      "a soni manfiy yoki nol\n"
     ]
    }
   ],
   "source": [
    "a=int(input('sonni kritish'))\n",
    "if a>0:\n",
    "  print(a+4)\n",
    "else: \n",
    "  print('a soni manfiy yoki nol')"
   ]
  },
  {
   "cell_type": "code",
   "execution_count": null,
   "metadata": {},
   "outputs": [
    {
     "name": "stdout",
     "output_type": "stream",
     "text": [
      "a soni nolga teng\n"
     ]
    }
   ],
   "source": [
    "a=int(input('sonni kiriting'))\n",
    "if a>0:\n",
    "  print(a+4)\n",
    "else:\n",
    "  print('a soni nolga teng')\n",
    "\n"
   ]
  },
  {
   "cell_type": "code",
   "execution_count": 7,
   "metadata": {},
   "outputs": [
    {
     "name": "stdout",
     "output_type": "stream",
     "text": [
      "yomon\n"
     ]
    }
   ],
   "source": [
    "b=int(input('Oquvchi bahosini kiriting' ))\n",
    "if b==5:\n",
    "    print('alo')\n",
    "elif b==4:\n",
    "    print('yaxshi')\n",
    "elif b==3:\n",
    "    print('ortacha')\n",
    "else:\n",
    "    print('yomon')\n",
    "\n",
    "\n",
    "\n"
   ]
  },
  {
   "cell_type": "code",
   "execution_count": 17,
   "metadata": {},
   "outputs": [
    {
     "name": "stdout",
     "output_type": "stream",
     "text": [
      "yuqori daraja\n"
     ]
    }
   ],
   "source": [
    "a=float(input('yigilgan ballarni kiriting'))\n",
    "if a>0:\n",
    "    print('yuqori daraja')\n",
    "elif a==2.3:\n",
    "    print('yaxshi daraja')\n",
    "elif a==2.1:\n",
    "    print('orta daraja')\n",
    "elif a==1.9:\n",
    "    print('yomon daraja')\n",
    "else:\n",
    "    print('juda yomon daraja')\n",
    "\n",
    "\n"
   ]
  },
  {
   "cell_type": "code",
   "execution_count": 19,
   "metadata": {},
   "outputs": [
    {
     "name": "stdout",
     "output_type": "stream",
     "text": [
      "ajratilgan olchamlar uzoq olchamliy\n"
     ]
    }
   ],
   "source": [
    "a='uzoq olchamliy'\n",
    "print(f\"ajratilgan olchamlar {a}\")"
   ]
  },
  {
   "cell_type": "code",
   "execution_count": 8,
   "metadata": {},
   "outputs": [
    {
     "name": "stdout",
     "output_type": "stream",
     "text": [
      "yaxshi\n"
     ]
    }
   ],
   "source": [
    "print('yaxshi')"
   ]
  },
  {
   "cell_type": "code",
   "execution_count": null,
   "metadata": {},
   "outputs": [
    {
     "name": "stdout",
     "output_type": "stream",
     "text": [
      "yaxshi\n"
     ]
    }
   ],
   "source": [
    "print(f\"yaxshi\") # f-string blan ishlash\n"
   ]
  },
  {
   "cell_type": "code",
   "execution_count": 12,
   "metadata": {},
   "outputs": [
    {
     "name": "stdout",
     "output_type": "stream",
     "text": [
      "yaxshi talaba\n"
     ]
    }
   ],
   "source": [
    "a='talaba'\n",
    "print(f\"yaxshi {a}\")"
   ]
  },
  {
   "cell_type": "code",
   "execution_count": 13,
   "metadata": {},
   "outputs": [
    {
     "name": "stdout",
     "output_type": "stream",
     "text": [
      "eng kuchli va tez kuzatuvchi bot\n"
     ]
    }
   ],
   "source": [
    "a='kuzatuvchi bot'\n",
    "print(f\"eng kuchli va tez {a}\")"
   ]
  },
  {
   "cell_type": "code",
   "execution_count": 15,
   "metadata": {},
   "outputs": [
    {
     "name": "stdout",
     "output_type": "stream",
     "text": [
      "sistemani boglovchi\n"
     ]
    }
   ],
   "source": [
    "a='boglovchi'\n",
    "print(f\"sistemani {a}\")"
   ]
  },
  {
   "cell_type": "code",
   "execution_count": null,
   "metadata": {},
   "outputs": [],
   "source": []
  }
 ],
 "metadata": {
  "kernelspec": {
   "display_name": "Python 3",
   "language": "python",
   "name": "python3"
  },
  "language_info": {
   "codemirror_mode": {
    "name": "ipython",
    "version": 3
   },
   "file_extension": ".py",
   "mimetype": "text/x-python",
   "name": "python",
   "nbconvert_exporter": "python",
   "pygments_lexer": "ipython3",
   "version": "3.11.9"
  }
 },
 "nbformat": 4,
 "nbformat_minor": 2
}

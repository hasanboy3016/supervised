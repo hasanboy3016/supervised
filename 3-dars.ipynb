{
 "cells": [
  {
   "cell_type": "code",
   "execution_count": 1,
   "metadata": {},
   "outputs": [
    {
     "name": "stdout",
     "output_type": "stream",
     "text": [
      "Note: you may need to restart the kernel to use updated packages.\n"
     ]
    },
    {
     "name": "stderr",
     "output_type": "stream",
     "text": [
      "ERROR: unknown command \"instal\" - maybe you meant \"install\"\n",
      "\n"
     ]
    }
   ],
   "source": [
    "pip instal pandas"
   ]
  },
  {
   "cell_type": "code",
   "execution_count": 2,
   "metadata": {},
   "outputs": [],
   "source": [
    "import pandas as pd"
   ]
  },
  {
   "cell_type": "code",
   "execution_count": 7,
   "metadata": {},
   "outputs": [],
   "source": [
    "df=pd.read_csv('.tel malumotlari.csv')"
   ]
  },
  {
   "cell_type": "code",
   "execution_count": 8,
   "metadata": {},
   "outputs": [
    {
     "name": "stdout",
     "output_type": "stream",
     "text": [
      "<class 'pandas.core.frame.DataFrame'>\n",
      "RangeIndex: 1000 entries, 0 to 999\n",
      "Data columns (total 33 columns):\n",
      " #   Column                     Non-Null Count  Dtype  \n",
      "---  ------                     --------------  -----  \n",
      " 0   Unnamed: 0                 1000 non-null   int64  \n",
      " 1   id                         1000 non-null   int64  \n",
      " 2   battery_power              1000 non-null   int64  \n",
      " 3   blue                       1000 non-null   int64  \n",
      " 4   clock_speed                1000 non-null   float64\n",
      " 5   dual_sim                   1000 non-null   int64  \n",
      " 6   fc                         1000 non-null   int64  \n",
      " 7   four_g                     1000 non-null   int64  \n",
      " 8   int_memory                 998 non-null    float64\n",
      " 9   m_dep                      1000 non-null   float64\n",
      " 10  mobile_wt                  999 non-null    float64\n",
      " 11  n_cores                    1000 non-null   int64  \n",
      " 12  pc                         999 non-null    float64\n",
      " 13  px_height                  999 non-null    float64\n",
      " 14  px_width                   996 non-null    float64\n",
      " 15  ram                        999 non-null    float64\n",
      " 16  sc_h                       1000 non-null   int64  \n",
      " 17  sc_w                       1000 non-null   int64  \n",
      " 18  talk_time                  1000 non-null   int64  \n",
      " 19  three_g                    1000 non-null   int64  \n",
      " 20  touch_screen               1000 non-null   int64  \n",
      " 21  wifi                       1000 non-null   int64  \n",
      " 22  battery_efficiency         1000 non-null   int64  \n",
      " 23  screen_size_index          1000 non-null   int64  \n",
      " 24  camera_quality_index       1000 non-null   int64  \n",
      " 25  connectivity_index         1000 non-null   int64  \n",
      " 26  performance_index          1000 non-null   float64\n",
      " 27  storage_capacity_index     1000 non-null   int64  \n",
      " 28  multitasking_capability    1000 non-null   int64  \n",
      " 29  display_resolution_index   1000 non-null   int64  \n",
      " 30  camera_resolution_index    1000 non-null   int64  \n",
      " 31  battery_longevity_index    1000 non-null   int64  \n",
      " 32  connectivity_memory_ratio  1000 non-null   float64\n",
      "dtypes: float64(10), int64(23)\n",
      "memory usage: 257.9 KB\n"
     ]
    }
   ],
   "source": [
    "df.info()"
   ]
  },
  {
   "cell_type": "code",
   "execution_count": 9,
   "metadata": {},
   "outputs": [
    {
     "data": {
      "text/html": [
       "<div>\n",
       "<style scoped>\n",
       "    .dataframe tbody tr th:only-of-type {\n",
       "        vertical-align: middle;\n",
       "    }\n",
       "\n",
       "    .dataframe tbody tr th {\n",
       "        vertical-align: top;\n",
       "    }\n",
       "\n",
       "    .dataframe thead th {\n",
       "        text-align: right;\n",
       "    }\n",
       "</style>\n",
       "<table border=\"1\" class=\"dataframe\">\n",
       "  <thead>\n",
       "    <tr style=\"text-align: right;\">\n",
       "      <th></th>\n",
       "      <th>Unnamed: 0</th>\n",
       "      <th>id</th>\n",
       "      <th>battery_power</th>\n",
       "      <th>blue</th>\n",
       "      <th>clock_speed</th>\n",
       "      <th>dual_sim</th>\n",
       "      <th>fc</th>\n",
       "      <th>four_g</th>\n",
       "      <th>int_memory</th>\n",
       "      <th>m_dep</th>\n",
       "      <th>...</th>\n",
       "      <th>screen_size_index</th>\n",
       "      <th>camera_quality_index</th>\n",
       "      <th>connectivity_index</th>\n",
       "      <th>performance_index</th>\n",
       "      <th>storage_capacity_index</th>\n",
       "      <th>multitasking_capability</th>\n",
       "      <th>display_resolution_index</th>\n",
       "      <th>camera_resolution_index</th>\n",
       "      <th>battery_longevity_index</th>\n",
       "      <th>connectivity_memory_ratio</th>\n",
       "    </tr>\n",
       "  </thead>\n",
       "  <tbody>\n",
       "    <tr>\n",
       "      <th>0</th>\n",
       "      <td>0</td>\n",
       "      <td>1</td>\n",
       "      <td>1043</td>\n",
       "      <td>1</td>\n",
       "      <td>1.8</td>\n",
       "      <td>1</td>\n",
       "      <td>14</td>\n",
       "      <td>0</td>\n",
       "      <td>5.0</td>\n",
       "      <td>0.1</td>\n",
       "      <td>...</td>\n",
       "      <td>84</td>\n",
       "      <td>224</td>\n",
       "      <td>3</td>\n",
       "      <td>6256.8</td>\n",
       "      <td>214</td>\n",
       "      <td>33</td>\n",
       "      <td>319112</td>\n",
       "      <td>30</td>\n",
       "      <td>2086</td>\n",
       "      <td>0.600000</td>\n",
       "    </tr>\n",
       "    <tr>\n",
       "      <th>1</th>\n",
       "      <td>1</td>\n",
       "      <td>2</td>\n",
       "      <td>841</td>\n",
       "      <td>1</td>\n",
       "      <td>0.5</td>\n",
       "      <td>1</td>\n",
       "      <td>4</td>\n",
       "      <td>1</td>\n",
       "      <td>61.0</td>\n",
       "      <td>0.8</td>\n",
       "      <td>...</td>\n",
       "      <td>0</td>\n",
       "      <td>48</td>\n",
       "      <td>4</td>\n",
       "      <td>1947.5</td>\n",
       "      <td>264</td>\n",
       "      <td>21</td>\n",
       "      <td>639322</td>\n",
       "      <td>16</td>\n",
       "      <td>5887</td>\n",
       "      <td>0.065574</td>\n",
       "    </tr>\n",
       "    <tr>\n",
       "      <th>2</th>\n",
       "      <td>2</td>\n",
       "      <td>3</td>\n",
       "      <td>1807</td>\n",
       "      <td>1</td>\n",
       "      <td>2.8</td>\n",
       "      <td>0</td>\n",
       "      <td>1</td>\n",
       "      <td>0</td>\n",
       "      <td>27.0</td>\n",
       "      <td>0.9</td>\n",
       "      <td>...</td>\n",
       "      <td>170</td>\n",
       "      <td>4</td>\n",
       "      <td>3</td>\n",
       "      <td>6708.8</td>\n",
       "      <td>217</td>\n",
       "      <td>8</td>\n",
       "      <td>1734820</td>\n",
       "      <td>5</td>\n",
       "      <td>18070</td>\n",
       "      <td>0.111111</td>\n",
       "    </tr>\n",
       "    <tr>\n",
       "      <th>3</th>\n",
       "      <td>3</td>\n",
       "      <td>4</td>\n",
       "      <td>1546</td>\n",
       "      <td>0</td>\n",
       "      <td>0.5</td>\n",
       "      <td>1</td>\n",
       "      <td>18</td>\n",
       "      <td>1</td>\n",
       "      <td>25.0</td>\n",
       "      <td>0.5</td>\n",
       "      <td>...</td>\n",
       "      <td>0</td>\n",
       "      <td>360</td>\n",
       "      <td>4</td>\n",
       "      <td>1946.5</td>\n",
       "      <td>141</td>\n",
       "      <td>46</td>\n",
       "      <td>516840</td>\n",
       "      <td>38</td>\n",
       "      <td>10822</td>\n",
       "      <td>0.160000</td>\n",
       "    </tr>\n",
       "    <tr>\n",
       "      <th>4</th>\n",
       "      <td>4</td>\n",
       "      <td>5</td>\n",
       "      <td>1434</td>\n",
       "      <td>0</td>\n",
       "      <td>1.4</td>\n",
       "      <td>0</td>\n",
       "      <td>11</td>\n",
       "      <td>1</td>\n",
       "      <td>49.0</td>\n",
       "      <td>0.5</td>\n",
       "      <td>...</td>\n",
       "      <td>120</td>\n",
       "      <td>198</td>\n",
       "      <td>3</td>\n",
       "      <td>2482.2</td>\n",
       "      <td>175</td>\n",
       "      <td>35</td>\n",
       "      <td>606690</td>\n",
       "      <td>29</td>\n",
       "      <td>10038</td>\n",
       "      <td>0.061224</td>\n",
       "    </tr>\n",
       "  </tbody>\n",
       "</table>\n",
       "<p>5 rows × 33 columns</p>\n",
       "</div>"
      ],
      "text/plain": [
       "   Unnamed: 0  id  battery_power  blue  clock_speed  dual_sim  fc  four_g  \\\n",
       "0           0   1           1043     1          1.8         1  14       0   \n",
       "1           1   2            841     1          0.5         1   4       1   \n",
       "2           2   3           1807     1          2.8         0   1       0   \n",
       "3           3   4           1546     0          0.5         1  18       1   \n",
       "4           4   5           1434     0          1.4         0  11       1   \n",
       "\n",
       "   int_memory  m_dep  ...  screen_size_index  camera_quality_index  \\\n",
       "0         5.0    0.1  ...                 84                   224   \n",
       "1        61.0    0.8  ...                  0                    48   \n",
       "2        27.0    0.9  ...                170                     4   \n",
       "3        25.0    0.5  ...                  0                   360   \n",
       "4        49.0    0.5  ...                120                   198   \n",
       "\n",
       "   connectivity_index  performance_index  storage_capacity_index  \\\n",
       "0                   3             6256.8                     214   \n",
       "1                   4             1947.5                     264   \n",
       "2                   3             6708.8                     217   \n",
       "3                   4             1946.5                     141   \n",
       "4                   3             2482.2                     175   \n",
       "\n",
       "   multitasking_capability  display_resolution_index  camera_resolution_index  \\\n",
       "0                       33                    319112                       30   \n",
       "1                       21                    639322                       16   \n",
       "2                        8                   1734820                        5   \n",
       "3                       46                    516840                       38   \n",
       "4                       35                    606690                       29   \n",
       "\n",
       "   battery_longevity_index  connectivity_memory_ratio  \n",
       "0                     2086                   0.600000  \n",
       "1                     5887                   0.065574  \n",
       "2                    18070                   0.111111  \n",
       "3                    10822                   0.160000  \n",
       "4                    10038                   0.061224  \n",
       "\n",
       "[5 rows x 33 columns]"
      ]
     },
     "execution_count": 9,
     "metadata": {},
     "output_type": "execute_result"
    }
   ],
   "source": [
    "df.head()"
   ]
  },
  {
   "cell_type": "code",
   "execution_count": null,
   "metadata": {},
   "outputs": [
    {
     "data": {
      "text/plain": [
       "blue\n",
       "1    516\n",
       "0    484\n",
       "Name: count, dtype: int64"
      ]
     },
     "execution_count": 10,
     "metadata": {},
     "output_type": "execute_result"
    }
   ],
   "source": [
    "df['lueb'].value_counts() # clasifications"
   ]
  },
  {
   "cell_type": "code",
   "execution_count": null,
   "metadata": {},
   "outputs": [
    {
     "data": {
      "text/plain": [
       "clock_speed\n",
       "0.5    199\n",
       "2.6     40\n",
       "0.6     40\n",
       "1.4     39\n",
       "1.3     38\n",
       "2.9     38\n",
       "1.6     37\n",
       "2.1     37\n",
       "2.5     36\n",
       "0.9     34\n",
       "2.8     33\n",
       "2.4     33\n",
       "2.7     33\n",
       "1.1     33\n",
       "1.8     32\n",
       "1.7     30\n",
       "0.8     29\n",
       "2.2     29\n",
       "0.7     28\n",
       "1.9     28\n",
       "2.3     28\n",
       "1.5     27\n",
       "1.2     27\n",
       "1.0     26\n",
       "2.0     25\n",
       "3.0     21\n",
       "Name: count, dtype: int64"
      ]
     },
     "execution_count": 11,
     "metadata": {},
     "output_type": "execute_result"
    }
   ],
   "source": [
    "df['clock_speed'].value_counts() # regretion"
   ]
  },
  {
   "cell_type": "code",
   "execution_count": 12,
   "metadata": {},
   "outputs": [
    {
     "data": {
      "text/plain": [
       "np.int64(1000)"
      ]
     },
     "execution_count": 12,
     "metadata": {},
     "output_type": "execute_result"
    }
   ],
   "source": [
    "df['clock_speed'].value_counts().sum()"
   ]
  },
  {
   "cell_type": "code",
   "execution_count": 13,
   "metadata": {},
   "outputs": [
    {
     "data": {
      "text/plain": [
       "26"
      ]
     },
     "execution_count": 13,
     "metadata": {},
     "output_type": "execute_result"
    }
   ],
   "source": [
    "df['clock_speed'].nunique()"
   ]
  },
  {
   "cell_type": "code",
   "execution_count": 10,
   "metadata": {},
   "outputs": [
    {
     "data": {
      "text/plain": [
       "<bound method IndexOpsMixin.nunique of 0      1\n",
       "1      1\n",
       "2      1\n",
       "3      0\n",
       "4      0\n",
       "      ..\n",
       "995    1\n",
       "996    0\n",
       "997    0\n",
       "998    1\n",
       "999    1\n",
       "Name: blue, Length: 1000, dtype: int64>"
      ]
     },
     "execution_count": 10,
     "metadata": {},
     "output_type": "execute_result"
    }
   ],
   "source": [
    "df['blue'].nunique"
   ]
  },
  {
   "cell_type": "code",
   "execution_count": 9,
   "metadata": {},
   "outputs": [
    {
     "data": {
      "text/plain": [
       "Unnamed: 0                   0\n",
       "id                           0\n",
       "battery_power                0\n",
       "blue                         0\n",
       "clock_speed                  0\n",
       "dual_sim                     0\n",
       "fc                           0\n",
       "four_g                       0\n",
       "int_memory                   2\n",
       "m_dep                        0\n",
       "mobile_wt                    1\n",
       "n_cores                      0\n",
       "pc                           1\n",
       "px_height                    1\n",
       "px_width                     4\n",
       "ram                          1\n",
       "sc_h                         0\n",
       "sc_w                         0\n",
       "talk_time                    0\n",
       "three_g                      0\n",
       "touch_screen                 0\n",
       "wifi                         0\n",
       "battery_efficiency           0\n",
       "screen_size_index            0\n",
       "camera_quality_index         0\n",
       "connectivity_index           0\n",
       "performance_index            0\n",
       "storage_capacity_index       0\n",
       "multitasking_capability      0\n",
       "display_resolution_index     0\n",
       "camera_resolution_index      0\n",
       "battery_longevity_index      0\n",
       "connectivity_memory_ratio    0\n",
       "dtype: int64"
      ]
     },
     "execution_count": 9,
     "metadata": {},
     "output_type": "execute_result"
    }
   ],
   "source": [
    "df.isnull().sum()"
   ]
  },
  {
   "cell_type": "code",
   "execution_count": null,
   "metadata": {},
   "outputs": [],
   "source": []
  }
 ],
 "metadata": {
  "kernelspec": {
   "display_name": "Python 3",
   "language": "python",
   "name": "python3"
  },
  "language_info": {
   "codemirror_mode": {
    "name": "ipython",
    "version": 3
   },
   "file_extension": ".py",
   "mimetype": "text/x-python",
   "name": "python",
   "nbconvert_exporter": "python",
   "pygments_lexer": "ipython3",
   "version": "3.11.9"
  }
 },
 "nbformat": 4,
 "nbformat_minor": 2
}
